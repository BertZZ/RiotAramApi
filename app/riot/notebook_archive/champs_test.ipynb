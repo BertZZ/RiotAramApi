{
 "cells": [
  {
   "cell_type": "code",
   "execution_count": 1,
   "metadata": {},
   "outputs": [],
   "source": [
    "import pandas as pd\n",
    "import json"
   ]
  },
  {
   "cell_type": "code",
   "execution_count": 2,
   "metadata": {},
   "outputs": [],
   "source": [
    "# opens JSON downloaded from riot containing champ data\n",
    "with open(\"champs.json\", \"r\") as file:\n",
    "    json_data = json.load(file)\n",
    "\n",
    "#assign the json-level containing champ data\n",
    "champ_data = json_data['data']\n",
    "\n",
    "### \n",
    "# champ_key  =  unique number value - same as pulled from local client.  eg. \"21\"\n",
    "# champ_name = name of champion seen in game.  eg. Miss Fortune\n",
    "# champ_id = stringname of champion used when spaces get in the way.  eg. MissFortune\n",
    "# note: Riot handles some champ_ids differently eg. Renata Glasc is simply Renata\n",
    "###\n",
    "\n",
    "#for each champ in json, create dict based on champ_key for name and id eg \"21\":{champ_id:\"MissFortune\", champ_name:\"Miss Fortune\"} \n",
    "champ_dict = {champ['key']:(champ['name'],champ['id']) for champ in champ_data.values()}\n",
    "\n",
    "#convert dict to df\n",
    "df = pd.DataFrame.from_dict(champ_dict, orient=\"index\", columns=[\"champ_name\",\"champ_id\"])\n",
    "\n",
    "#move champkey index into column and rename\n",
    "df = df.reset_index().rename(columns={'index':'champ_key'})\n",
    "\n",
    "#create function to take a champ_id and generate the url of the tile-image\n",
    "def generate_img_url(champ):\n",
    "    #big old caveat - the game patch is baked into the url - although it looks like old urls are still maintained - functional for now!\n",
    "    url = f\"https://ddragon.leagueoflegends.com/cdn/15.4.1/img/champion/{champ}.png\"\n",
    "    return url\n",
    "\n",
    "#create new column in dataframe to holding the generated img url for each champion\n",
    "df['img_url'] = df['champ_id'].apply(lambda x: generate_img_url(x))\n",
    "\n",
    "#reset champ key to index, then each index gets a dict of the remaining columns - this creates easier to access json structure\n",
    "df.set_index('champ_key', inplace=True)\n",
    "json_dict = df.to_dict(orient='index')\n",
    "\n",
    "#dump to dict to json with champ_key as top-level key \n",
    "with open (\"champ_refs.json\", \"w\") as file:\n",
    "    json.dump(json_dict, file, indent=4)\n",
    "\n",
    "\n",
    "\n"
   ]
  },
  {
   "cell_type": "code",
   "execution_count": null,
   "metadata": {},
   "outputs": [],
   "source": []
  }
 ],
 "metadata": {
  "kernelspec": {
   "display_name": "base",
   "language": "python",
   "name": "python3"
  },
  "language_info": {
   "codemirror_mode": {
    "name": "ipython",
    "version": 3
   },
   "file_extension": ".py",
   "mimetype": "text/x-python",
   "name": "python",
   "nbconvert_exporter": "python",
   "pygments_lexer": "ipython3",
   "version": "3.11.5"
  }
 },
 "nbformat": 4,
 "nbformat_minor": 2
}
