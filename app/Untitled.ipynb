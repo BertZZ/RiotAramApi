{
 "cells": [
  {
   "cell_type": "code",
   "execution_count": 59,
   "id": "64e5ff4b-cb88-43c0-b0ef-d51d51aa07dc",
   "metadata": {},
   "outputs": [],
   "source": [
    "import requests\n",
    "\n",
    "RIOT_BASE_URL = \"https://europe.api.riotgames.com/riot/account/v1/accounts/by-riot-id/\"\n",
    "\n",
    "# DO NOT COMMIT THIS TO GITHUB IDIOT\n",
    "RIOT_API_KEY = 'RGAPI-af579848-857d-4e7a-aae1-d30c60c8a7c3'\n",
    "\n",
    "class Client():\n",
    "\n",
    "    def __init__(self, username, tag):\n",
    "        self.username = username\n",
    "        self.tag = tag\n",
    "\n",
    "    \n",
    "    def get_puuid(self):\n",
    "        response = requests.get(f\"{RIOT_BASE_URL}{self.username}/{self.tag}?api_key={RIOT_API_KEY}\")\n",
    "        puuid = response.json()['puuid']\n",
    "\n",
    "\n",
    "\n"
   ]
  },
  {
   "cell_type": "code",
   "execution_count": 60,
   "id": "37a6d86f-69b0-4dbc-a543-640b060f2392",
   "metadata": {},
   "outputs": [
    {
     "name": "stdout",
     "output_type": "stream",
     "text": [
      "9kdR-1wfupk6MTC8zLhCQRBAcBQF-E6rx-52AzpdwCHxFg3zAtEg1lyXwkijJf9aiwSPC4R_ZE9rgA\n"
     ]
    }
   ],
   "source": [
    "client = Client('LilPanther', 'EUW')\n",
    "client.call()"
   ]
  }
 ],
 "metadata": {
  "kernelspec": {
   "display_name": "Python 3 (ipykernel)",
   "language": "python",
   "name": "python3"
  },
  "language_info": {
   "codemirror_mode": {
    "name": "ipython",
    "version": 3
   },
   "file_extension": ".py",
   "mimetype": "text/x-python",
   "name": "python",
   "nbconvert_exporter": "python",
   "pygments_lexer": "ipython3",
   "version": "3.13.1"
  }
 },
 "nbformat": 4,
 "nbformat_minor": 5
}
