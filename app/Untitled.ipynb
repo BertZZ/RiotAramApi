{
 "cells": [
  {
   "cell_type": "code",
   "execution_count": 18,
   "id": "64e5ff4b-cb88-43c0-b0ef-d51d51aa07dc",
   "metadata": {},
   "outputs": [],
   "source": [
    "import requests\n",
    "import config\n",
    "import json\n",
    "\n",
    "\n",
    "RIOT_BASE_URL = \"https://europe.api.riotgames.com/riot/account/v1/accounts/by-riot-id/\"\n",
    "\n",
    "# DO NOT COMMIT THIS TO GITHUB IDIOT\n",
    "RIOT_API_KEY = config.API_KEY\n",
    "\n",
    "\n",
    "class Client():\n",
    "\n",
    "    def __init__(self, username, tag):\n",
    "        self.username = username\n",
    "        self.tag = tag\n",
    "\n",
    "    \n",
    "    def get_puuid(self):\n",
    "        response = requests.get(f\"{RIOT_BASE_URL}{self.username}/{self.tag}?api_key={RIOT_API_KEY}\")\n",
    "        puuid = response.json()['puuid']\n",
    "        return puuid\n",
    "    \n",
    "\n",
    "\n"
   ]
  },
  {
   "cell_type": "code",
   "execution_count": 53,
   "id": "37a6d86f-69b0-4dbc-a543-640b060f2392",
   "metadata": {},
   "outputs": [
    {
     "name": "stdout",
     "output_type": "stream",
     "text": [
      "NwAJ7TL9hTACEJXGKsG-7JQxXU-AIepZZbfTWQ_vNa9qJDJY8b7JFpIcgTsFl50zvqlh16LRUMXBuQ\n",
      "{'status': {'message': \"Data not found - spectator game info isn't found\", 'status_code': 404}}\n"
     ]
    }
   ],
   "source": [
    "client = Client('KingRobbolo', 'EUW')\n",
    "player_id = client.get_puuid()\n",
    "print(player_id)\n",
    "\n",
    "\n",
    "match_response = requests.get(f\"https://euw1.api.riotgames.com/lol/spectator/v5/active-games/by-summoner/{player_id}?api_key={RIOT_API_KEY}\")\n",
    "\n",
    "full_response = json.loads(match_response.text)\n",
    "\n",
    "print(full_response)\n"
   ]
  },
  {
   "cell_type": "code",
   "execution_count": null,
   "id": "412bd937",
   "metadata": {},
   "outputs": [],
   "source": []
  }
 ],
 "metadata": {
  "kernelspec": {
   "display_name": "base",
   "language": "python",
   "name": "python3"
  },
  "language_info": {
   "codemirror_mode": {
    "name": "ipython",
    "version": 3
   },
   "file_extension": ".py",
   "mimetype": "text/x-python",
   "name": "python",
   "nbconvert_exporter": "python",
   "pygments_lexer": "ipython3",
   "version": "3.11.5"
  }
 },
 "nbformat": 4,
 "nbformat_minor": 5
}
